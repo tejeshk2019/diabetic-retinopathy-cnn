{
 "cells": [
  {
   "cell_type": "code",
   "execution_count": 1,
   "id": "e5d978be",
   "metadata": {},
   "outputs": [],
   "source": [
    "import tensorflow as tf\n",
    "import os \n",
    "import cv2\n",
    "import numpy as np\n",
    "import seaborn as sns\n",
    "from tensorflow.keras.models import Sequential,load_model\n",
    "from tensorflow.keras.layers import Conv2D,MaxPool2D,Flatten,Dense\n",
    "from tensorflow.keras.callbacks import EarlyStopping\n",
    "from sklearn.preprocessing import LabelEncoder\n",
    "from sklearn.model_selection import train_test_split\n",
    "from sklearn.metrics import confusion_matrix\n",
    "from tensorflow.keras.applications.vgg16 import VGG16\n",
    "from keras_tuner import RandomSearch\n",
    "import warnings\n",
    "warnings.filterwarnings('ignore')"
   ]
  },
  {
   "cell_type": "code",
   "execution_count": 2,
   "id": "30466f62",
   "metadata": {},
   "outputs": [
    {
     "name": "stdout",
     "output_type": "stream",
     "text": [
      "(1800, 80, 80, 3) (1800,)\n"
     ]
    }
   ],
   "source": [
    "x,y=[],[]\n",
    "path=r\"D:\\SINGULARIS SEPTEMBER\\Data Sets For DL\\Diabetic Retinopathy\"\n",
    "for i in os.listdir(path):\n",
    "    for j in os.listdir(os.path.join(path,i)):\n",
    "        fed_path=os.path.join(path,i,j)\n",
    "        array=cv2.imread(fed_path)\n",
    "        arr_resize=cv2.resize(array,(80,80))\n",
    "        arr_reshape=arr_resize.reshape(80,80,3)\n",
    "        arr_norm=arr_reshape/255\n",
    "        x.append(arr_norm)\n",
    "        y.append(i)\n",
    "x=np.array(x)\n",
    "y=np.array(y)\n",
    "print(x.shape,y.shape)"
   ]
  },
  {
   "cell_type": "code",
   "execution_count": 3,
   "id": "85b8c545",
   "metadata": {},
   "outputs": [
    {
     "data": {
      "text/plain": [
       "array(['0', '0', '0', ..., '4', '4', '4'], dtype='<U1')"
      ]
     },
     "execution_count": 3,
     "metadata": {},
     "output_type": "execute_result"
    }
   ],
   "source": [
    "y"
   ]
  },
  {
   "cell_type": "markdown",
   "id": "5dd25936",
   "metadata": {},
   "source": [
    "0: No DR\n",
    "1: Mild Non-Proliferative DR\n",
    "2: Moderate Non-Proliferative DR\n",
    "3: Severe Non-Proliferative DR\n",
    "4: Proliferative DR"
   ]
  },
  {
   "cell_type": "code",
   "execution_count": 4,
   "id": "e1a82e92",
   "metadata": {},
   "outputs": [],
   "source": [
    "le=LabelEncoder()"
   ]
  },
  {
   "cell_type": "code",
   "execution_count": 5,
   "id": "df97c4a8",
   "metadata": {},
   "outputs": [
    {
     "data": {
      "text/plain": [
       "array([0, 0, 0, ..., 4, 4, 4], dtype=int64)"
      ]
     },
     "execution_count": 5,
     "metadata": {},
     "output_type": "execute_result"
    }
   ],
   "source": [
    "y=le.fit_transform(y)\n",
    "y"
   ]
  },
  {
   "cell_type": "code",
   "execution_count": 6,
   "id": "9d7d1359",
   "metadata": {},
   "outputs": [
    {
     "data": {
      "text/plain": [
       "(1800,)"
      ]
     },
     "execution_count": 6,
     "metadata": {},
     "output_type": "execute_result"
    }
   ],
   "source": [
    "y.shape"
   ]
  },
  {
   "cell_type": "code",
   "execution_count": 9,
   "id": "7b591b94",
   "metadata": {},
   "outputs": [],
   "source": [
    "xtrain,xtest,ytrain,ytest=train_test_split(x,y,test_size=0.2,random_state=42)"
   ]
  },
  {
   "cell_type": "code",
   "execution_count": 10,
   "id": "b25625fd",
   "metadata": {},
   "outputs": [
    {
     "name": "stdout",
     "output_type": "stream",
     "text": [
      "1440 1440\n",
      "360 360\n"
     ]
    }
   ],
   "source": [
    "print(len(xtrain),len(ytrain))\n",
    "print(len(xtest),len(ytest))"
   ]
  },
  {
   "cell_type": "code",
   "execution_count": 11,
   "id": "d62425f2",
   "metadata": {},
   "outputs": [
    {
     "name": "stdout",
     "output_type": "stream",
     "text": [
      "(1440, 80, 80, 3)\n",
      "(1440,)\n",
      "(360, 80, 80, 3)\n",
      "(360,)\n"
     ]
    }
   ],
   "source": [
    "print(xtrain.shape)\n",
    "print(ytrain.shape)\n",
    "print(xtest.shape)\n",
    "print(ytest.shape)"
   ]
  },
  {
   "cell_type": "code",
   "execution_count": 13,
   "id": "907a4c65",
   "metadata": {},
   "outputs": [],
   "source": [
    "# xtrain"
   ]
  },
  {
   "cell_type": "code",
   "execution_count": 14,
   "id": "9dc3b6a3",
   "metadata": {},
   "outputs": [],
   "source": [
    "# xtest"
   ]
  },
  {
   "cell_type": "code",
   "execution_count": 15,
   "id": "f7f9481d",
   "metadata": {},
   "outputs": [
    {
     "data": {
      "text/plain": [
       "array([2, 2, 3, ..., 2, 4, 3], dtype=int64)"
      ]
     },
     "execution_count": 15,
     "metadata": {},
     "output_type": "execute_result"
    }
   ],
   "source": [
    "ytrain"
   ]
  },
  {
   "cell_type": "code",
   "execution_count": 16,
   "id": "06600894",
   "metadata": {},
   "outputs": [
    {
     "data": {
      "text/plain": [
       "array([4, 2, 2, 0, 3, 0, 0, 0, 4, 2, 4, 2, 3, 2, 1, 3, 1, 2, 1, 4, 2, 1,\n",
       "       1, 3, 1, 1, 1, 1, 4, 4, 4, 3, 1, 3, 0, 4, 4, 1, 3, 1, 4, 3, 4, 0,\n",
       "       1, 0, 3, 0, 3, 4, 0, 3, 1, 3, 1, 3, 3, 0, 3, 4, 0, 1, 4, 1, 4, 4,\n",
       "       4, 3, 1, 4, 1, 0, 0, 1, 1, 4, 2, 2, 0, 0, 4, 2, 1, 2, 0, 4, 4, 3,\n",
       "       1, 1, 1, 0, 0, 4, 1, 1, 4, 1, 0, 0, 0, 1, 4, 4, 4, 1, 4, 1, 3, 2,\n",
       "       1, 1, 2, 2, 1, 2, 1, 2, 1, 0, 1, 1, 0, 3, 4, 4, 2, 3, 0, 0, 4, 3,\n",
       "       1, 0, 3, 1, 2, 0, 3, 0, 1, 3, 0, 3, 1, 1, 3, 4, 2, 3, 4, 4, 3, 4,\n",
       "       0, 0, 2, 1, 1, 0, 1, 0, 4, 3, 2, 2, 4, 1, 2, 2, 2, 2, 3, 0, 4, 2,\n",
       "       4, 3, 2, 3, 3, 1, 3, 1, 3, 0, 3, 4, 4, 1, 1, 2, 3, 3, 0, 3, 3, 4,\n",
       "       3, 2, 2, 0, 2, 0, 4, 2, 4, 1, 4, 4, 4, 0, 2, 3, 1, 4, 3, 3, 2, 0,\n",
       "       2, 4, 0, 0, 1, 1, 2, 2, 0, 2, 2, 0, 0, 3, 1, 2, 4, 1, 4, 0, 4, 3,\n",
       "       0, 2, 0, 0, 2, 1, 3, 4, 4, 3, 4, 3, 4, 0, 2, 1, 3, 4, 4, 0, 0, 3,\n",
       "       4, 2, 3, 4, 1, 2, 2, 3, 0, 1, 3, 3, 4, 0, 4, 2, 1, 1, 2, 0, 3, 0,\n",
       "       1, 0, 3, 2, 2, 1, 0, 1, 0, 0, 1, 0, 1, 3, 3, 2, 4, 4, 2, 3, 2, 4,\n",
       "       1, 1, 1, 2, 4, 1, 0, 4, 1, 4, 2, 1, 2, 0, 0, 2, 0, 4, 2, 4, 3, 4,\n",
       "       4, 2, 1, 4, 3, 0, 1, 3, 3, 3, 0, 2, 1, 1, 2, 3, 1, 2, 0, 4, 1, 3,\n",
       "       0, 4, 1, 2, 4, 4, 3, 3], dtype=int64)"
      ]
     },
     "execution_count": 16,
     "metadata": {},
     "output_type": "execute_result"
    }
   ],
   "source": [
    "ytest"
   ]
  },
  {
   "cell_type": "code",
   "execution_count": 17,
   "id": "fe6c9248",
   "metadata": {},
   "outputs": [],
   "source": [
    "ytrain = np.asarray(ytrain).astype('int')\n",
    "ytest = np.asarray(ytest).astype('int')"
   ]
  },
  {
   "cell_type": "code",
   "execution_count": 18,
   "id": "d139087b",
   "metadata": {},
   "outputs": [
    {
     "data": {
      "text/plain": [
       "array([2, 2, 3, ..., 2, 4, 3])"
      ]
     },
     "execution_count": 18,
     "metadata": {},
     "output_type": "execute_result"
    }
   ],
   "source": [
    "ytrain"
   ]
  },
  {
   "cell_type": "code",
   "execution_count": 19,
   "id": "41dda7b0",
   "metadata": {},
   "outputs": [
    {
     "data": {
      "text/plain": [
       "array([4, 2, 2, 0, 3, 0, 0, 0, 4, 2, 4, 2, 3, 2, 1, 3, 1, 2, 1, 4, 2, 1,\n",
       "       1, 3, 1, 1, 1, 1, 4, 4, 4, 3, 1, 3, 0, 4, 4, 1, 3, 1, 4, 3, 4, 0,\n",
       "       1, 0, 3, 0, 3, 4, 0, 3, 1, 3, 1, 3, 3, 0, 3, 4, 0, 1, 4, 1, 4, 4,\n",
       "       4, 3, 1, 4, 1, 0, 0, 1, 1, 4, 2, 2, 0, 0, 4, 2, 1, 2, 0, 4, 4, 3,\n",
       "       1, 1, 1, 0, 0, 4, 1, 1, 4, 1, 0, 0, 0, 1, 4, 4, 4, 1, 4, 1, 3, 2,\n",
       "       1, 1, 2, 2, 1, 2, 1, 2, 1, 0, 1, 1, 0, 3, 4, 4, 2, 3, 0, 0, 4, 3,\n",
       "       1, 0, 3, 1, 2, 0, 3, 0, 1, 3, 0, 3, 1, 1, 3, 4, 2, 3, 4, 4, 3, 4,\n",
       "       0, 0, 2, 1, 1, 0, 1, 0, 4, 3, 2, 2, 4, 1, 2, 2, 2, 2, 3, 0, 4, 2,\n",
       "       4, 3, 2, 3, 3, 1, 3, 1, 3, 0, 3, 4, 4, 1, 1, 2, 3, 3, 0, 3, 3, 4,\n",
       "       3, 2, 2, 0, 2, 0, 4, 2, 4, 1, 4, 4, 4, 0, 2, 3, 1, 4, 3, 3, 2, 0,\n",
       "       2, 4, 0, 0, 1, 1, 2, 2, 0, 2, 2, 0, 0, 3, 1, 2, 4, 1, 4, 0, 4, 3,\n",
       "       0, 2, 0, 0, 2, 1, 3, 4, 4, 3, 4, 3, 4, 0, 2, 1, 3, 4, 4, 0, 0, 3,\n",
       "       4, 2, 3, 4, 1, 2, 2, 3, 0, 1, 3, 3, 4, 0, 4, 2, 1, 1, 2, 0, 3, 0,\n",
       "       1, 0, 3, 2, 2, 1, 0, 1, 0, 0, 1, 0, 1, 3, 3, 2, 4, 4, 2, 3, 2, 4,\n",
       "       1, 1, 1, 2, 4, 1, 0, 4, 1, 4, 2, 1, 2, 0, 0, 2, 0, 4, 2, 4, 3, 4,\n",
       "       4, 2, 1, 4, 3, 0, 1, 3, 3, 3, 0, 2, 1, 1, 2, 3, 1, 2, 0, 4, 1, 3,\n",
       "       0, 4, 1, 2, 4, 4, 3, 3])"
      ]
     },
     "execution_count": 19,
     "metadata": {},
     "output_type": "execute_result"
    }
   ],
   "source": [
    "ytest"
   ]
  },
  {
   "cell_type": "code",
   "execution_count": 25,
   "id": "1e1b71c1",
   "metadata": {},
   "outputs": [],
   "source": [
    "model=Sequential()\n",
    "model.add(Conv2D(32,(3,3),padding='same',activation='relu',input_shape=(80,80,3)))\n",
    "model.add(MaxPool2D(2,2))\n",
    "model.add(Conv2D(64,(3,3),padding='same',activation='relu'))\n",
    "model.add(MaxPool2D(2,2))\n",
    "model.add(Conv2D(128,(3,3),padding='same',activation='relu'))\n",
    "model.add(MaxPool2D(2,2))\n",
    "model.add(Conv2D(256,(3,3),padding='same',activation='relu'))\n",
    "model.add(MaxPool2D(2,2))\n",
    "model.add(Flatten())\n",
    "model.add(Dense(256,activation='relu'))\n",
    "model.add(Dense(128,activation='relu'))\n",
    "model.add(Dense(5,activation='softmax'))   "
   ]
  },
  {
   "cell_type": "code",
   "execution_count": 26,
   "id": "2047f00d",
   "metadata": {},
   "outputs": [
    {
     "name": "stdout",
     "output_type": "stream",
     "text": [
      "Model: \"sequential_2\"\n",
      "_________________________________________________________________\n",
      " Layer (type)                Output Shape              Param #   \n",
      "=================================================================\n",
      " conv2d_7 (Conv2D)           (None, 80, 80, 32)        896       \n",
      "                                                                 \n",
      " max_pooling2d_7 (MaxPoolin  (None, 40, 40, 32)        0         \n",
      " g2D)                                                            \n",
      "                                                                 \n",
      " conv2d_8 (Conv2D)           (None, 40, 40, 64)        18496     \n",
      "                                                                 \n",
      " max_pooling2d_8 (MaxPoolin  (None, 20, 20, 64)        0         \n",
      " g2D)                                                            \n",
      "                                                                 \n",
      " conv2d_9 (Conv2D)           (None, 20, 20, 128)       73856     \n",
      "                                                                 \n",
      " max_pooling2d_9 (MaxPoolin  (None, 10, 10, 128)       0         \n",
      " g2D)                                                            \n",
      "                                                                 \n",
      " conv2d_10 (Conv2D)          (None, 10, 10, 256)       295168    \n",
      "                                                                 \n",
      " max_pooling2d_10 (MaxPooli  (None, 5, 5, 256)         0         \n",
      " ng2D)                                                           \n",
      "                                                                 \n",
      " flatten_2 (Flatten)         (None, 6400)              0         \n",
      "                                                                 \n",
      " dense_4 (Dense)             (None, 256)               1638656   \n",
      "                                                                 \n",
      " dense_5 (Dense)             (None, 128)               32896     \n",
      "                                                                 \n",
      " dense_6 (Dense)             (None, 5)                 645       \n",
      "                                                                 \n",
      "=================================================================\n",
      "Total params: 2060613 (7.86 MB)\n",
      "Trainable params: 2060613 (7.86 MB)\n",
      "Non-trainable params: 0 (0.00 Byte)\n",
      "_________________________________________________________________\n"
     ]
    }
   ],
   "source": [
    "model.summary()"
   ]
  },
  {
   "cell_type": "code",
   "execution_count": 27,
   "id": "c1823a0c",
   "metadata": {},
   "outputs": [],
   "source": [
    "model.compile(optimizer='adam',loss='sparse_categorical_crossentropy',metrics=['accuracy'])"
   ]
  },
  {
   "cell_type": "code",
   "execution_count": 28,
   "id": "15d851be",
   "metadata": {
    "scrolled": false
   },
   "outputs": [
    {
     "name": "stdout",
     "output_type": "stream",
     "text": [
      "Epoch 1/45\n",
      "48/48 [==============================] - 11s 185ms/step - loss: 1.4427 - accuracy: 0.2847 - val_loss: 1.1885 - val_accuracy: 0.3306\n",
      "Epoch 2/45\n",
      "48/48 [==============================] - 8s 177ms/step - loss: 1.1605 - accuracy: 0.3819 - val_loss: 1.1313 - val_accuracy: 0.3722\n",
      "Epoch 3/45\n",
      "48/48 [==============================] - 9s 180ms/step - loss: 1.1399 - accuracy: 0.3924 - val_loss: 1.1373 - val_accuracy: 0.3444\n",
      "Epoch 4/45\n",
      "48/48 [==============================] - 9s 178ms/step - loss: 1.1224 - accuracy: 0.4243 - val_loss: 1.1067 - val_accuracy: 0.4306\n",
      "Epoch 5/45\n",
      "48/48 [==============================] - 9s 181ms/step - loss: 1.1267 - accuracy: 0.4354 - val_loss: 1.0982 - val_accuracy: 0.4361\n",
      "Epoch 6/45\n",
      "48/48 [==============================] - 9s 179ms/step - loss: 1.1006 - accuracy: 0.4444 - val_loss: 1.0699 - val_accuracy: 0.4750\n",
      "Epoch 7/45\n",
      "48/48 [==============================] - 9s 180ms/step - loss: 1.0711 - accuracy: 0.4639 - val_loss: 1.0865 - val_accuracy: 0.4639\n",
      "Epoch 8/45\n",
      "48/48 [==============================] - 9s 183ms/step - loss: 1.0546 - accuracy: 0.4715 - val_loss: 1.0221 - val_accuracy: 0.4944\n",
      "Epoch 9/45\n",
      "48/48 [==============================] - 9s 184ms/step - loss: 1.0307 - accuracy: 0.5000 - val_loss: 1.0615 - val_accuracy: 0.4528\n",
      "Epoch 10/45\n",
      "48/48 [==============================] - 9s 184ms/step - loss: 0.9951 - accuracy: 0.5264 - val_loss: 1.0792 - val_accuracy: 0.4611\n",
      "Epoch 11/45\n",
      "48/48 [==============================] - 9s 185ms/step - loss: 0.9707 - accuracy: 0.5514 - val_loss: 1.0209 - val_accuracy: 0.5111\n",
      "Epoch 12/45\n",
      "48/48 [==============================] - 9s 185ms/step - loss: 0.9526 - accuracy: 0.5444 - val_loss: 1.0458 - val_accuracy: 0.4861\n",
      "Epoch 13/45\n",
      "48/48 [==============================] - 9s 186ms/step - loss: 0.8966 - accuracy: 0.6028 - val_loss: 1.0047 - val_accuracy: 0.5472\n",
      "Epoch 14/45\n",
      "48/48 [==============================] - 9s 186ms/step - loss: 0.8642 - accuracy: 0.6028 - val_loss: 1.0478 - val_accuracy: 0.5111\n",
      "Epoch 15/45\n",
      "48/48 [==============================] - 9s 187ms/step - loss: 0.7824 - accuracy: 0.6569 - val_loss: 1.1595 - val_accuracy: 0.5000\n",
      "Epoch 16/45\n",
      "48/48 [==============================] - 9s 185ms/step - loss: 0.7325 - accuracy: 0.6687 - val_loss: 1.0807 - val_accuracy: 0.5000\n",
      "Epoch 17/45\n",
      "48/48 [==============================] - 9s 186ms/step - loss: 0.6727 - accuracy: 0.7132 - val_loss: 1.1449 - val_accuracy: 0.5000\n",
      "Epoch 18/45\n",
      "48/48 [==============================] - 9s 188ms/step - loss: 0.6044 - accuracy: 0.7521 - val_loss: 1.1865 - val_accuracy: 0.5139\n",
      "Epoch 19/45\n",
      "48/48 [==============================] - 9s 186ms/step - loss: 0.5227 - accuracy: 0.7792 - val_loss: 1.1694 - val_accuracy: 0.5194\n",
      "Epoch 20/45\n",
      "48/48 [==============================] - 9s 188ms/step - loss: 0.4655 - accuracy: 0.8049 - val_loss: 1.3995 - val_accuracy: 0.5028\n",
      "Epoch 21/45\n",
      "48/48 [==============================] - 9s 186ms/step - loss: 0.3802 - accuracy: 0.8451 - val_loss: 1.4924 - val_accuracy: 0.5250\n",
      "Epoch 22/45\n",
      "48/48 [==============================] - 9s 189ms/step - loss: 0.2593 - accuracy: 0.8958 - val_loss: 1.6294 - val_accuracy: 0.5472\n",
      "Epoch 23/45\n",
      "48/48 [==============================] - 9s 190ms/step - loss: 0.1948 - accuracy: 0.9306 - val_loss: 1.8581 - val_accuracy: 0.5528\n",
      "Epoch 24/45\n",
      "48/48 [==============================] - 9s 190ms/step - loss: 0.1808 - accuracy: 0.9340 - val_loss: 1.8148 - val_accuracy: 0.5528\n",
      "Epoch 25/45\n",
      "48/48 [==============================] - 9s 191ms/step - loss: 0.1581 - accuracy: 0.9472 - val_loss: 1.9348 - val_accuracy: 0.5500\n",
      "Epoch 26/45\n",
      "48/48 [==============================] - 9s 189ms/step - loss: 0.1738 - accuracy: 0.9264 - val_loss: 1.9712 - val_accuracy: 0.5583\n",
      "Epoch 27/45\n",
      "48/48 [==============================] - 9s 193ms/step - loss: 0.1228 - accuracy: 0.9556 - val_loss: 2.1142 - val_accuracy: 0.5722\n",
      "Epoch 28/45\n",
      "48/48 [==============================] - 9s 190ms/step - loss: 0.0436 - accuracy: 0.9896 - val_loss: 2.4512 - val_accuracy: 0.5583\n",
      "Epoch 29/45\n",
      "48/48 [==============================] - 9s 189ms/step - loss: 0.0396 - accuracy: 0.9875 - val_loss: 2.4501 - val_accuracy: 0.5444\n",
      "Epoch 30/45\n",
      "48/48 [==============================] - 9s 191ms/step - loss: 0.0236 - accuracy: 0.9944 - val_loss: 2.6482 - val_accuracy: 0.5750\n",
      "Epoch 31/45\n",
      "48/48 [==============================] - 9s 192ms/step - loss: 0.0039 - accuracy: 1.0000 - val_loss: 2.8450 - val_accuracy: 0.5722\n",
      "Epoch 32/45\n",
      "48/48 [==============================] - 9s 191ms/step - loss: 0.0011 - accuracy: 1.0000 - val_loss: 3.0298 - val_accuracy: 0.5611\n",
      "Epoch 33/45\n",
      "48/48 [==============================] - 9s 190ms/step - loss: 5.9469e-04 - accuracy: 1.0000 - val_loss: 3.0963 - val_accuracy: 0.5639\n",
      "Epoch 34/45\n",
      "48/48 [==============================] - 9s 191ms/step - loss: 4.5413e-04 - accuracy: 1.0000 - val_loss: 3.1663 - val_accuracy: 0.5639\n",
      "Epoch 35/45\n",
      "48/48 [==============================] - 9s 193ms/step - loss: 3.6995e-04 - accuracy: 1.0000 - val_loss: 3.2196 - val_accuracy: 0.5639\n",
      "Epoch 36/45\n",
      "48/48 [==============================] - 9s 192ms/step - loss: 3.1371e-04 - accuracy: 1.0000 - val_loss: 3.2587 - val_accuracy: 0.5667\n",
      "Epoch 37/45\n",
      "48/48 [==============================] - 9s 192ms/step - loss: 2.7323e-04 - accuracy: 1.0000 - val_loss: 3.2935 - val_accuracy: 0.5667\n",
      "Epoch 38/45\n",
      "48/48 [==============================] - 9s 195ms/step - loss: 2.3946e-04 - accuracy: 1.0000 - val_loss: 3.3321 - val_accuracy: 0.5667\n",
      "Epoch 39/45\n",
      "48/48 [==============================] - 9s 194ms/step - loss: 2.1438e-04 - accuracy: 1.0000 - val_loss: 3.3670 - val_accuracy: 0.5667\n",
      "Epoch 40/45\n",
      "48/48 [==============================] - 9s 193ms/step - loss: 1.9422e-04 - accuracy: 1.0000 - val_loss: 3.3964 - val_accuracy: 0.5667\n",
      "Epoch 41/45\n",
      "48/48 [==============================] - 9s 195ms/step - loss: 1.7593e-04 - accuracy: 1.0000 - val_loss: 3.4212 - val_accuracy: 0.5694\n",
      "Epoch 42/45\n",
      "48/48 [==============================] - 9s 197ms/step - loss: 1.6087e-04 - accuracy: 1.0000 - val_loss: 3.4489 - val_accuracy: 0.5694\n",
      "Epoch 43/45\n",
      "48/48 [==============================] - 9s 197ms/step - loss: 1.4697e-04 - accuracy: 1.0000 - val_loss: 3.4736 - val_accuracy: 0.5694\n",
      "Epoch 44/45\n",
      "48/48 [==============================] - 10s 198ms/step - loss: 1.3534e-04 - accuracy: 1.0000 - val_loss: 3.4966 - val_accuracy: 0.5694\n",
      "Epoch 45/45\n",
      "48/48 [==============================] - 9s 197ms/step - loss: 1.2596e-04 - accuracy: 1.0000 - val_loss: 3.5214 - val_accuracy: 0.5694\n"
     ]
    },
    {
     "data": {
      "text/plain": [
       "<keras.src.callbacks.History at 0x20756f7aad0>"
      ]
     },
     "execution_count": 28,
     "metadata": {},
     "output_type": "execute_result"
    }
   ],
   "source": [
    "model.fit(xtrain,ytrain,batch_size=30,epochs=45,validation_data=(xtest,ytest))"
   ]
  },
  {
   "cell_type": "code",
   "execution_count": 20,
   "id": "f46b7b13",
   "metadata": {},
   "outputs": [],
   "source": [
    "model.save('drdd61.h5')"
   ]
  },
  {
   "cell_type": "code",
   "execution_count": 7,
   "id": "a4e361b1",
   "metadata": {},
   "outputs": [],
   "source": [
    "model=load_model('drdd61.h5')"
   ]
  },
  {
   "cell_type": "code",
   "execution_count": 12,
   "id": "481b2069",
   "metadata": {},
   "outputs": [
    {
     "name": "stdout",
     "output_type": "stream",
     "text": [
      "12/12 [==============================] - 1s 50ms/step - loss: 2.5627 - accuracy: 0.6111\n",
      "0.6111111044883728\n"
     ]
    }
   ],
   "source": [
    "loss,accuracy=model.evaluate(xtest,ytest)\n",
    "print(accuracy)"
   ]
  },
  {
   "cell_type": "code",
   "execution_count": 13,
   "id": "14da171b",
   "metadata": {},
   "outputs": [
    {
     "name": "stdout",
     "output_type": "stream",
     "text": [
      "45/45 [==============================] - 2s 40ms/step - loss: 4.6353e-04 - accuracy: 1.0000\n",
      "1.0\n"
     ]
    }
   ],
   "source": [
    "loss,accuracy=model.evaluate(xtrain,ytrain)\n",
    "print(accuracy)"
   ]
  },
  {
   "cell_type": "code",
   "execution_count": 22,
   "id": "e736ccad",
   "metadata": {},
   "outputs": [
    {
     "name": "stdout",
     "output_type": "stream",
     "text": [
      "12/12 [==============================] - 1s 53ms/step\n"
     ]
    },
    {
     "data": {
      "text/plain": [
       "array([[2.2222793e-17, 5.7217219e-16, 6.4743696e-15, 5.0726580e-04,\n",
       "        9.9949276e-01],\n",
       "       [8.5838477e-04, 4.1907409e-04, 9.9872154e-01, 9.3946801e-07,\n",
       "        1.7267176e-13],\n",
       "       [4.6319015e-02, 1.9555048e-04, 9.5348525e-01, 1.4584565e-07,\n",
       "        2.6694344e-17],\n",
       "       ...,\n",
       "       [1.1155056e-25, 6.1337722e-25, 1.4670340e-22, 7.3667606e-03,\n",
       "        9.9263328e-01],\n",
       "       [8.0006596e-17, 2.4421493e-17, 4.7304842e-15, 4.3369599e-02,\n",
       "        9.5663041e-01],\n",
       "       [7.9582659e-19, 1.4386039e-21, 7.2377998e-18, 9.9994099e-01,\n",
       "        5.9045371e-05]], dtype=float32)"
      ]
     },
     "execution_count": 22,
     "metadata": {},
     "output_type": "execute_result"
    }
   ],
   "source": [
    "ypred=model.predict(xtest)\n",
    "ypred"
   ]
  },
  {
   "cell_type": "code",
   "execution_count": 23,
   "id": "f06c0547",
   "metadata": {},
   "outputs": [],
   "source": [
    "ar=[]\n",
    "for i in ypred:\n",
    "    ar.append(np.argmax(i))"
   ]
  },
  {
   "cell_type": "code",
   "execution_count": 24,
   "id": "342003a3",
   "metadata": {},
   "outputs": [
    {
     "data": {
      "text/plain": [
       "array([[43,  8, 15,  3,  0],\n",
       "       [22, 40, 13,  4,  2],\n",
       "       [15, 15, 30,  3,  1],\n",
       "       [ 2,  4,  6, 47, 10],\n",
       "       [ 0,  2,  3, 12, 60]], dtype=int64)"
      ]
     },
     "execution_count": 24,
     "metadata": {},
     "output_type": "execute_result"
    }
   ],
   "source": [
    "cm=confusion_matrix(ytest,ar)\n",
    "cm"
   ]
  },
  {
   "cell_type": "code",
   "execution_count": 26,
   "id": "43faa394",
   "metadata": {},
   "outputs": [
    {
     "data": {
      "text/plain": [
       "<Axes: >"
      ]
     },
     "execution_count": 26,
     "metadata": {},
     "output_type": "execute_result"
    },
    {
     "data": {
      "image/png": "[encoded data removed]",
      "text/plain": [
       "<Figure size 640x480 with 2 Axes>"
      ]
     },
     "metadata": {},
     "output_type": "display_data"
    }
   ],
   "source": [
    "sns.heatmap(cm,annot=True)"
   ]
  },
  {
   "cell_type": "code",
   "execution_count": 27,
   "id": "941de37d",
   "metadata": {},
   "outputs": [],
   "source": [
    "test_path=r\"D:\\SINGULARIS SEPTEMBER\\Data Sets For DL\\Diabetic Retinopathy\\0\\20051021_51418_0100_PP.png\"\n",
    "image=cv2.imread(test_path)\n",
    "i_resize=cv2.resize(image,(80,80))\n",
    "i_reshape=i_resize.reshape(1,80,80,3)\n",
    "i_norm=i_reshape/255"
   ]
  },
  {
   "cell_type": "code",
   "execution_count": 28,
   "id": "4bccd410",
   "metadata": {},
   "outputs": [
    {
     "name": "stdout",
     "output_type": "stream",
     "text": [
      "1/1 [==============================] - 0s 31ms/step\n"
     ]
    },
    {
     "data": {
      "text/plain": [
       "array([[9.9626958e-01, 1.5493893e-05, 3.7135873e-03, 4.1346451e-07,\n",
       "        9.5037586e-07]], dtype=float32)"
      ]
     },
     "execution_count": 28,
     "metadata": {},
     "output_type": "execute_result"
    }
   ],
   "source": [
    "b=model.predict(i_norm)\n",
    "b"
   ]
  },
  {
   "cell_type": "code",
   "execution_count": 29,
   "id": "9a21afe9",
   "metadata": {},
   "outputs": [
    {
     "data": {
      "text/plain": [
       "0"
      ]
     },
     "execution_count": 29,
     "metadata": {},
     "output_type": "execute_result"
    }
   ],
   "source": [
    "a=np.argmax(b)\n",
    "a"
   ]
  },
  {
   "cell_type": "code",
   "execution_count": 30,
   "id": "a2d62ca1",
   "metadata": {},
   "outputs": [
    {
     "data": {
      "text/plain": [
       "'No DR'"
      ]
     },
     "execution_count": 30,
     "metadata": {},
     "output_type": "execute_result"
    }
   ],
   "source": [
    "l = ['No DR','Mild Non-Proliferative DR','Moderate Non-Proliferative DR','Severe Non-Proliferative DR','Proliferative DR']\n",
    "l[a]"
   ]
  },
  {
   "cell_type": "code",
   "execution_count": 40,
   "id": "7ca7b277",
   "metadata": {},
   "outputs": [],
   "source": [
    "test_path=r\"D:\\Singularis\\Data Sets For Aug 2024\\Diabetic Retinopathy\\1\\20051205_59300_0400_PP - Copy.png\"\n",
    "image=cv2.imread(test_path)\n",
    "i_resize=cv2.resize(image,(80,80))\n",
    "i_reshape=i_resize.reshape(1,80,80,3)\n",
    "i_norm=i_reshape/255"
   ]
  },
  {
   "cell_type": "code",
   "execution_count": 41,
   "id": "b861050c",
   "metadata": {},
   "outputs": [
    {
     "name": "stdout",
     "output_type": "stream",
     "text": [
      "1/1 [==============================] - 0s 49ms/step\n"
     ]
    },
    {
     "data": {
      "text/plain": [
       "array([[9.3384873e-04, 9.9906605e-01, 8.2930150e-08, 2.5202757e-11,\n",
       "        1.5993307e-12]], dtype=float32)"
      ]
     },
     "execution_count": 41,
     "metadata": {},
     "output_type": "execute_result"
    }
   ],
   "source": [
    "b=model.predict(i_norm)\n",
    "b"
   ]
  },
  {
   "cell_type": "code",
   "execution_count": 42,
   "id": "fb249757",
   "metadata": {},
   "outputs": [
    {
     "data": {
      "text/plain": [
       "1"
      ]
     },
     "execution_count": 42,
     "metadata": {},
     "output_type": "execute_result"
    }
   ],
   "source": [
    "a=np.argmax(b)\n",
    "a"
   ]
  },
  {
   "cell_type": "code",
   "execution_count": 43,
   "id": "329f2431",
   "metadata": {},
   "outputs": [
    {
     "data": {
      "text/plain": [
       "'Mild Non-Proliferative DR'"
      ]
     },
     "execution_count": 43,
     "metadata": {},
     "output_type": "execute_result"
    }
   ],
   "source": [
    "l = ['No DR','Mild Non-Proliferative DR','Moderate Non-Proliferative DR','Severe Non-Proliferative DR','Proliferative DR']\n",
    "l[a]"
   ]
  },
  {
   "cell_type": "code",
   "execution_count": 44,
   "id": "215ff71e",
   "metadata": {},
   "outputs": [],
   "source": [
    "test_path=r\"D:\\Singularis\\Data Sets For Aug 2024\\Diabetic Retinopathy\\2\\20051214_41582_0100_PP.png\"\n",
    "image=cv2.imread(test_path)\n",
    "i_resize=cv2.resize(image,(80,80))\n",
    "i_reshape=i_resize.reshape(1,80,80,3)\n",
    "i_norm=i_reshape/255"
   ]
  },
  {
   "cell_type": "code",
   "execution_count": 45,
   "id": "8ad95e06",
   "metadata": {},
   "outputs": [
    {
     "name": "stdout",
     "output_type": "stream",
     "text": [
      "1/1 [==============================] - 0s 47ms/step\n"
     ]
    },
    {
     "data": {
      "text/plain": [
       "array([[9.4865682e-04, 8.2813103e-06, 9.9904209e-01, 2.1835329e-07,\n",
       "        7.1928577e-07]], dtype=float32)"
      ]
     },
     "execution_count": 45,
     "metadata": {},
     "output_type": "execute_result"
    }
   ],
   "source": [
    "b=model.predict(i_norm)\n",
    "b"
   ]
  },
  {
   "cell_type": "code",
   "execution_count": 46,
   "id": "9688d1ed",
   "metadata": {},
   "outputs": [
    {
     "data": {
      "text/plain": [
       "2"
      ]
     },
     "execution_count": 46,
     "metadata": {},
     "output_type": "execute_result"
    }
   ],
   "source": [
    "a=np.argmax(b)\n",
    "a"
   ]
  },
  {
   "cell_type": "code",
   "execution_count": 47,
   "id": "f69eaa94",
   "metadata": {},
   "outputs": [
    {
     "data": {
      "text/plain": [
       "'Moderate Non-Proliferative DR'"
      ]
     },
     "execution_count": 47,
     "metadata": {},
     "output_type": "execute_result"
    }
   ],
   "source": [
    "l = ['No DR','Mild Non-Proliferative DR','Moderate Non-Proliferative DR','Severe Non-Proliferative DR','Proliferative DR']\n",
    "l[a]"
   ]
  },
  {
   "cell_type": "code",
   "execution_count": 48,
   "id": "33640681",
   "metadata": {},
   "outputs": [],
   "source": [
    "test_path=r\"D:\\Singularis\\Data Sets For Aug 2024\\Diabetic Retinopathy\\4\\17925_left.jpeg\"\n",
    "image=cv2.imread(test_path)\n",
    "i_resize=cv2.resize(image,(80,80))\n",
    "i_reshape=i_resize.reshape(1,80,80,3)\n",
    "i_norm=i_reshape/255"
   ]
  },
  {
   "cell_type": "code",
   "execution_count": 49,
   "id": "f21eb64d",
   "metadata": {},
   "outputs": [
    {
     "name": "stdout",
     "output_type": "stream",
     "text": [
      "1/1 [==============================] - 0s 47ms/step\n"
     ]
    },
    {
     "data": {
      "text/plain": [
       "array([[8.3807388e-27, 1.0345358e-26, 1.4180675e-18, 1.7806422e-09,\n",
       "        1.0000000e+00]], dtype=float32)"
      ]
     },
     "execution_count": 49,
     "metadata": {},
     "output_type": "execute_result"
    }
   ],
   "source": [
    "b=model.predict(i_norm)\n",
    "b"
   ]
  },
  {
   "cell_type": "code",
   "execution_count": 50,
   "id": "e418c274",
   "metadata": {},
   "outputs": [
    {
     "data": {
      "text/plain": [
       "4"
      ]
     },
     "execution_count": 50,
     "metadata": {},
     "output_type": "execute_result"
    }
   ],
   "source": [
    "a=np.argmax(b)\n",
    "a"
   ]
  },
  {
   "cell_type": "code",
   "execution_count": 51,
   "id": "c5893bf0",
   "metadata": {},
   "outputs": [
    {
     "data": {
      "text/plain": [
       "'Proliferative DR'"
      ]
     },
     "execution_count": 51,
     "metadata": {},
     "output_type": "execute_result"
    }
   ],
   "source": [
    "l = ['No DR','Mild Non-Proliferative DR','Moderate Non-Proliferative DR','Severe Non-Proliferative DR','Proliferative DR']\n",
    "l[a]"
   ]
  },
  {
   "cell_type": "code",
   "execution_count": 52,
   "id": "e220400e",
   "metadata": {},
   "outputs": [],
   "source": [
    "test_path=r\"D:\\Singularis\\Data Sets For Aug 2024\\Diabetic Retinopathy\\3\\27939_right.jpeg\"\n",
    "image=cv2.imread(test_path)\n",
    "i_resize=cv2.resize(image,(80,80))\n",
    "i_reshape=i_resize.reshape(1,80,80,3)\n",
    "i_norm=i_reshape/255"
   ]
  },
  {
   "cell_type": "code",
   "execution_count": 53,
   "id": "a6d2c8e8",
   "metadata": {},
   "outputs": [
    {
     "name": "stdout",
     "output_type": "stream",
     "text": [
      "1/1 [==============================] - 0s 47ms/step\n"
     ]
    },
    {
     "data": {
      "text/plain": [
       "array([[1.5025911e-25, 1.3195283e-24, 1.0052649e-26, 1.0000000e+00,\n",
       "        1.1932086e-10]], dtype=float32)"
      ]
     },
     "execution_count": 53,
     "metadata": {},
     "output_type": "execute_result"
    }
   ],
   "source": [
    "b=model.predict(i_norm)\n",
    "b"
   ]
  },
  {
   "cell_type": "code",
   "execution_count": 54,
   "id": "0b8f9c08",
   "metadata": {},
   "outputs": [
    {
     "data": {
      "text/plain": [
       "3"
      ]
     },
     "execution_count": 54,
     "metadata": {},
     "output_type": "execute_result"
    }
   ],
   "source": [
    "a=np.argmax(b)\n",
    "a"
   ]
  },
  {
   "cell_type": "code",
   "execution_count": 55,
   "id": "367dd891",
   "metadata": {},
   "outputs": [
    {
     "data": {
      "text/plain": [
       "'Severe Non-Proliferative DR'"
      ]
     },
     "execution_count": 55,
     "metadata": {},
     "output_type": "execute_result"
    }
   ],
   "source": [
    "l = ['No DR','Mild Non-Proliferative DR','Moderate Non-Proliferative DR','Severe Non-Proliferative DR','Proliferative DR']\n",
    "l[a]"
   ]
  }
 ],
 "metadata": {
  "kernelspec": {
   "display_name": "Python 3 (ipykernel)",
   "language": "python",
   "name": "python3"
  },
  "language_info": {
   "codemirror_mode": {
    "name": "ipython",
    "version": 3
   },
   "file_extension": ".py",
   "mimetype": "text/x-python",
   "name": "python",
   "nbconvert_exporter": "python",
   "pygments_lexer": "ipython3",
   "version": "3.11.7"
  }
 },
 "nbformat": 4,
 "nbformat_minor": 5
}
